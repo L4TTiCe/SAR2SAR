{
 "cells": [
  {
   "cell_type": "markdown",
   "metadata": {},
   "source": [
    "## Metrics Evaluation\n",
    "### Import Libraries"
   ]
  },
  {
   "cell_type": "code",
   "execution_count": 1,
   "metadata": {},
   "outputs": [],
   "source": [
    "import numpy as np\n",
    "import cv2 as cv\n",
    "from PIL import Image, UnidentifiedImageError\n",
    "import os"
   ]
  },
  {
   "cell_type": "code",
   "execution_count": 2,
   "metadata": {},
   "outputs": [],
   "source": [
    "Image.MAX_IMAGE_PIXELS = None  # Override PIL's DecompressionBombError"
   ]
  },
  {
   "cell_type": "markdown",
   "metadata": {},
   "source": [
    "## Load in noisy and final Images"
   ]
  },
  {
   "cell_type": "code",
   "execution_count": 67,
   "metadata": {},
   "outputs": [],
   "source": [
    "BASE_DIR = os.path.join(os.getcwd(), 'output')\n",
    "\n",
    "noisy = os.path.join(BASE_DIR, 'noisy')\n",
    "final = os.path.join(BASE_DIR, 'final')\n",
    "denoi = os.path.join(BASE_DIR, 'denoised')"
   ]
  },
  {
   "cell_type": "code",
   "execution_count": 68,
   "metadata": {},
   "outputs": [
    {
     "data": {
      "text/plain": [
       "['19648211_HV.npy',\n",
       " '19648211_HV.tif',\n",
       " '19648321_RH.npy',\n",
       " '19648321_RH.tif',\n",
       " '196488211_HH.npy',\n",
       " '196488211_HH.tif',\n",
       " '196488311_RH.npy',\n",
       " '196488311_RH.tif',\n",
       " 'README.md',\n",
       " 'RH.npy',\n",
       " 'RH.tif',\n",
       " 'RV.npy',\n",
       " 'RV.tif']"
      ]
     },
     "execution_count": 68,
     "metadata": {},
     "output_type": "execute_result"
    }
   ],
   "source": [
    "os.listdir(noisy)"
   ]
  },
  {
   "cell_type": "code",
   "execution_count": 69,
   "metadata": {},
   "outputs": [
    {
     "data": {
      "text/plain": [
       "['README.md']"
      ]
     },
     "execution_count": 69,
     "metadata": {},
     "output_type": "execute_result"
    }
   ],
   "source": [
    "os.listdir(final)"
   ]
  },
  {
   "cell_type": "code",
   "execution_count": 70,
   "metadata": {},
   "outputs": [
    {
     "data": {
      "text/plain": [
       "['19648211_HV.npy',\n",
       " '19648211_HV.tif',\n",
       " '19648321_RH.npy',\n",
       " '19648321_RH.tif',\n",
       " '196488211_HH.npy',\n",
       " '196488211_HH.tif',\n",
       " '196488311_RH.npy',\n",
       " '196488311_RH.tif',\n",
       " 'README.md',\n",
       " 'RH.npy',\n",
       " 'RH.tif',\n",
       " 'RV.npy',\n",
       " 'RV.tif']"
      ]
     },
     "execution_count": 70,
     "metadata": {},
     "output_type": "execute_result"
    }
   ],
   "source": [
    "os.listdir(denoi)"
   ]
  },
  {
   "cell_type": "code",
   "execution_count": 71,
   "metadata": {},
   "outputs": [],
   "source": [
    "noisy = os.path.join(noisy, os.listdir(noisy)[1])\n",
    "#final = os.path.join(final, os.listdir(final)[1])\n",
    "denoi = os.path.join(denoi, os.listdir(denoi)[1])\n",
    "final = denoi"
   ]
  },
  {
   "cell_type": "code",
   "execution_count": 72,
   "metadata": {},
   "outputs": [],
   "source": [
    "img_n = np.asarray(Image.open(noisy).convert('L'))  # Noisy\n",
    "img_f = np.asarray(Image.open(final).convert('L'))  # Filtered\n",
    "img_d = np.asarray(Image.open(denoi).convert('L'))  # Denoised"
   ]
  },
  {
   "cell_type": "markdown",
   "metadata": {},
   "source": [
    "### SSI Speckle Suppression Index"
   ]
  },
  {
   "cell_type": "code",
   "execution_count": 16,
   "metadata": {},
   "outputs": [],
   "source": [
    "sigma_r = np.std(img_f)\n",
    "r_dash = np.mean(img_f)\n",
    "\n",
    "sigma_f = np.std(img_n)\n",
    "f_dash = np.mean(img_n)"
   ]
  },
  {
   "cell_type": "code",
   "execution_count": 17,
   "metadata": {},
   "outputs": [
    {
     "data": {
      "text/plain": [
       "0.5310644307422371"
      ]
     },
     "execution_count": 17,
     "metadata": {},
     "output_type": "execute_result"
    }
   ],
   "source": [
    "SSI = (sigma_r * f_dash) / (r_dash * sigma_f)\n",
    "SSI"
   ]
  },
  {
   "cell_type": "code",
   "execution_count": 19,
   "metadata": {},
   "outputs": [
    {
     "data": {
      "text/plain": [
       "0.5310644307422371"
      ]
     },
     "execution_count": 19,
     "metadata": {},
     "output_type": "execute_result"
    }
   ],
   "source": [
    "## For Denoised Alone\n",
    "\n",
    "sigma_r = np.std(img_d)\n",
    "r_dash = np.mean(img_d)\n",
    "\n",
    "sigma_f = np.std(img_n)\n",
    "f_dash = np.mean(img_n)\n",
    "\n",
    "SSI = (sigma_r * f_dash) / (r_dash * sigma_f)\n",
    "SSI"
   ]
  },
  {
   "cell_type": "markdown",
   "metadata": {},
   "source": [
    "### ENL Equivalent Number of Looks"
   ]
  },
  {
   "cell_type": "code",
   "execution_count": 64,
   "metadata": {},
   "outputs": [
    {
     "name": "stdout",
     "output_type": "stream",
     "text": [
      "        [*] ENL @ 3.875379343701045\n"
     ]
    },
    {
     "data": {
      "text/plain": [
       "3.875379343701045"
      ]
     },
     "execution_count": 64,
     "metadata": {},
     "output_type": "execute_result"
    }
   ],
   "source": [
    "def ENL(filtered):\n",
    "    \"\"\" Equivalent Number of Looks \"\"\"\n",
    "    mu = np.mean(filtered)\n",
    "    sigma = np.std(filtered)\n",
    "\n",
    "    ENL = (mu / sigma)**2\n",
    "    print(f'        [*] ENL @ {ENL}')\n",
    "    return ENL\n",
    "ENL(img_f)"
   ]
  },
  {
   "cell_type": "code",
   "execution_count": 21,
   "metadata": {},
   "outputs": [
    {
     "data": {
      "text/plain": [
       "0.014839786131379807"
      ]
     },
     "execution_count": 21,
     "metadata": {},
     "output_type": "execute_result"
    }
   ],
   "source": [
    "## For Denoised Alone\n",
    "\n",
    "mu = np.mean(img_d)\n",
    "sigma = np.var(img_d)\n",
    "\n",
    "ENL = (mu / sigma)**2\n",
    "ENL"
   ]
  },
  {
   "cell_type": "markdown",
   "metadata": {},
   "source": [
    "## SMPI Speckle Suppression and Mean Preservation Index"
   ]
  },
  {
   "cell_type": "code",
   "execution_count": 52,
   "metadata": {},
   "outputs": [
    {
     "data": {
      "text/plain": [
       "1.4624784582772128"
      ]
     },
     "execution_count": 52,
     "metadata": {},
     "output_type": "execute_result"
    }
   ],
   "source": [
    "sigma_r = np.std(img_f)\n",
    "r_dash = np.mean(img_f)\n",
    "\n",
    "sigma_f = np.std(img_n)\n",
    "f_dash = np.mean(img_n)\n",
    "\n",
    "Q = 1 + abs(f_dash - r_dash)\n",
    "\n",
    "SMPI = Q * (sigma_r / sigma_f)\n",
    "SMPI"
   ]
  },
  {
   "cell_type": "code",
   "execution_count": 23,
   "metadata": {},
   "outputs": [
    {
     "data": {
      "text/plain": [
       "2.595264426020416"
      ]
     },
     "execution_count": 23,
     "metadata": {},
     "output_type": "execute_result"
    }
   ],
   "source": [
    "## For Denoised Alone\n",
    "\n",
    "sigma_r = np.std(img_d)\n",
    "r_dash = np.mean(img_d)\n",
    "\n",
    "sigma_f = np.std(img_n)\n",
    "f_dash = np.mean(img_n)\n",
    "\n",
    "Q = 1 + abs(f_dash - r_dash)\n",
    "\n",
    "SMPI = Q * (sigma_r / sigma_f)\n",
    "SMPI"
   ]
  },
  {
   "cell_type": "markdown",
   "metadata": {},
   "source": [
    "## SSIM"
   ]
  },
  {
   "cell_type": "code",
   "execution_count": 24,
   "metadata": {},
   "outputs": [
    {
     "data": {
      "text/plain": [
       "255"
      ]
     },
     "execution_count": 24,
     "metadata": {},
     "output_type": "execute_result"
    }
   ],
   "source": [
    "from skimage.metrics import structural_similarity as ssim\n",
    "\n",
    "max(img_f.max(), img_n.max())"
   ]
  },
  {
   "cell_type": "code",
   "execution_count": null,
   "metadata": {},
   "outputs": [],
   "source": [
    "ssim = ssim(img_f, img_n, data_range=max(img_f.max(), img_n.max()) - min(img_f.min(), img_n.min()))"
   ]
  },
  {
   "cell_type": "markdown",
   "metadata": {},
   "source": [
    "## PSNR"
   ]
  },
  {
   "cell_type": "code",
   "execution_count": 21,
   "metadata": {},
   "outputs": [],
   "source": [
    "from skimage.metrics import peak_signal_noise_ratio as psnr\n",
    "\n",
    "def PSNR(img_n, img_f):\n",
    "    PSNR = psnr(img_f, img_n, data_range=max(img_f.max(), img_n.max()) - min(img_f.min(), img_n.min()))\n",
    "    print(f'        [*] PSNR @ {PSNR}')\n",
    "    return PSNR"
   ]
  },
  {
   "cell_type": "code",
   "execution_count": 30,
   "metadata": {},
   "outputs": [
    {
     "ename": "TypeError",
     "evalue": "'numpy.float64' object is not callable",
     "output_type": "error",
     "traceback": [
      "\u001b[1;31m---------------------------------------------------------------------------\u001b[0m",
      "\u001b[1;31mTypeError\u001b[0m                                 Traceback (most recent call last)",
      "\u001b[1;32m<ipython-input-30-27730a4c8422>\u001b[0m in \u001b[0;36m<module>\u001b[1;34m\u001b[0m\n\u001b[1;32m----> 1\u001b[1;33m \u001b[0mpsnr\u001b[0m \u001b[1;33m=\u001b[0m \u001b[0mPSNR\u001b[0m\u001b[1;33m(\u001b[0m\u001b[0mimg_n\u001b[0m\u001b[1;33m,\u001b[0m \u001b[0mimg_f\u001b[0m\u001b[1;33m)\u001b[0m\u001b[1;33m\u001b[0m\u001b[1;33m\u001b[0m\u001b[0m\n\u001b[0m",
      "\u001b[1;32m<ipython-input-21-a9a5ed59f0c2>\u001b[0m in \u001b[0;36mPSNR\u001b[1;34m(img_n, img_f)\u001b[0m\n\u001b[0;32m      2\u001b[0m \u001b[1;33m\u001b[0m\u001b[0m\n\u001b[0;32m      3\u001b[0m \u001b[1;32mdef\u001b[0m \u001b[0mPSNR\u001b[0m\u001b[1;33m(\u001b[0m\u001b[0mimg_n\u001b[0m\u001b[1;33m,\u001b[0m \u001b[0mimg_f\u001b[0m\u001b[1;33m)\u001b[0m\u001b[1;33m:\u001b[0m\u001b[1;33m\u001b[0m\u001b[1;33m\u001b[0m\u001b[0m\n\u001b[1;32m----> 4\u001b[1;33m     \u001b[0mPSNR\u001b[0m \u001b[1;33m=\u001b[0m \u001b[0mpsnr\u001b[0m\u001b[1;33m(\u001b[0m\u001b[0mimg_f\u001b[0m\u001b[1;33m,\u001b[0m \u001b[0mimg_n\u001b[0m\u001b[1;33m,\u001b[0m \u001b[0mdata_range\u001b[0m\u001b[1;33m=\u001b[0m\u001b[0mmax\u001b[0m\u001b[1;33m(\u001b[0m\u001b[0mimg_f\u001b[0m\u001b[1;33m.\u001b[0m\u001b[0mmax\u001b[0m\u001b[1;33m(\u001b[0m\u001b[1;33m)\u001b[0m\u001b[1;33m,\u001b[0m \u001b[0mimg_n\u001b[0m\u001b[1;33m.\u001b[0m\u001b[0mmax\u001b[0m\u001b[1;33m(\u001b[0m\u001b[1;33m)\u001b[0m\u001b[1;33m)\u001b[0m \u001b[1;33m-\u001b[0m \u001b[0mmin\u001b[0m\u001b[1;33m(\u001b[0m\u001b[0mimg_f\u001b[0m\u001b[1;33m.\u001b[0m\u001b[0mmin\u001b[0m\u001b[1;33m(\u001b[0m\u001b[1;33m)\u001b[0m\u001b[1;33m,\u001b[0m \u001b[0mimg_n\u001b[0m\u001b[1;33m.\u001b[0m\u001b[0mmin\u001b[0m\u001b[1;33m(\u001b[0m\u001b[1;33m)\u001b[0m\u001b[1;33m)\u001b[0m\u001b[1;33m)\u001b[0m\u001b[1;33m\u001b[0m\u001b[1;33m\u001b[0m\u001b[0m\n\u001b[0m\u001b[0;32m      5\u001b[0m     \u001b[0mprint\u001b[0m\u001b[1;33m(\u001b[0m\u001b[1;34mf'        [*] PSNR @ {PSNR}'\u001b[0m\u001b[1;33m)\u001b[0m\u001b[1;33m\u001b[0m\u001b[1;33m\u001b[0m\u001b[0m\n\u001b[0;32m      6\u001b[0m     \u001b[1;32mreturn\u001b[0m \u001b[0mPSNR\u001b[0m\u001b[1;33m\u001b[0m\u001b[1;33m\u001b[0m\u001b[0m\n",
      "\u001b[1;31mTypeError\u001b[0m: 'numpy.float64' object is not callable"
     ]
    }
   ],
   "source": [
    "PSNR(img_n, img_f)"
   ]
  },
  {
   "cell_type": "markdown",
   "metadata": {},
   "source": [
    "## Cropping for ENL"
   ]
  },
  {
   "cell_type": "code",
   "execution_count": 73,
   "metadata": {},
   "outputs": [],
   "source": [
    "img_n_raster = Image.open(noisy).convert('L')\n",
    "img_f_raster = Image.open(final).convert('L')"
   ]
  },
  {
   "cell_type": "code",
   "execution_count": 74,
   "metadata": {},
   "outputs": [
    {
     "data": {
      "text/plain": [
       "(8000, 8000, 10000, 10000)"
      ]
     },
     "execution_count": 74,
     "metadata": {},
     "output_type": "execute_result"
    }
   ],
   "source": [
    "width, height = img_n_raster.size \n",
    "  \n",
    "# Setting the points for cropped image \n",
    "left = 8000\n",
    "top = 8000\n",
    "right = 10000\n",
    "bottom = 10000\n",
    "\n",
    "(left, top, right, bottom)"
   ]
  },
  {
   "cell_type": "code",
   "execution_count": 75,
   "metadata": {},
   "outputs": [],
   "source": [
    "n_crop = img_n_raster.crop((left, top, right, bottom)) \n",
    "f_crop = img_f_raster.crop((left, top, right, bottom)) "
   ]
  },
  {
   "cell_type": "code",
   "execution_count": 76,
   "metadata": {},
   "outputs": [],
   "source": [
    "f_crop.show() "
   ]
  },
  {
   "cell_type": "code",
   "execution_count": 77,
   "metadata": {},
   "outputs": [
    {
     "name": "stdout",
     "output_type": "stream",
     "text": [
      "        [*] ENL @ 3.21249437361848\n"
     ]
    },
    {
     "data": {
      "text/plain": [
       "3.21249437361848"
      ]
     },
     "execution_count": 77,
     "metadata": {},
     "output_type": "execute_result"
    }
   ],
   "source": [
    "ENL(np.asarray(n_crop))"
   ]
  },
  {
   "cell_type": "code",
   "execution_count": 78,
   "metadata": {},
   "outputs": [
    {
     "name": "stdout",
     "output_type": "stream",
     "text": [
      "        [*] ENL @ 22.629790996528637\n"
     ]
    },
    {
     "data": {
      "text/plain": [
       "22.629790996528637"
      ]
     },
     "execution_count": 78,
     "metadata": {},
     "output_type": "execute_result"
    }
   ],
   "source": [
    "ENL(np.asarray(f_crop))"
   ]
  },
  {
   "cell_type": "code",
   "execution_count": null,
   "metadata": {},
   "outputs": [],
   "source": []
  }
 ],
 "metadata": {
  "kernelspec": {
   "display_name": "Python 3",
   "language": "python",
   "name": "python3"
  },
  "language_info": {
   "codemirror_mode": {
    "name": "ipython",
    "version": 3
   },
   "file_extension": ".py",
   "mimetype": "text/x-python",
   "name": "python",
   "nbconvert_exporter": "python",
   "pygments_lexer": "ipython3",
   "version": "3.8.5"
  }
 },
 "nbformat": 4,
 "nbformat_minor": 4
}
