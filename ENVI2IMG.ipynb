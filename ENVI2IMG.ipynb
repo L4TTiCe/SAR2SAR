{
 "cells": [
  {
   "cell_type": "markdown",
   "metadata": {},
   "source": [
    "# Export Data files as Image"
   ]
  },
  {
   "cell_type": "code",
   "execution_count": 1,
   "metadata": {},
   "outputs": [],
   "source": [
    "from spectral import *"
   ]
  },
  {
   "cell_type": "code",
   "execution_count": 5,
   "metadata": {},
   "outputs": [
    {
     "data": {
      "text/plain": [
       "\tData Source:   '././data/ENVI/DATA_FILE_PROCESSED_RH.img'\n",
       "\t# Rows:          13973\n",
       "\t# Samples:       13466\n",
       "\t# Bands:             1\n",
       "\tInterleave:        BSQ\n",
       "\tQuantization:  32 bits\n",
       "\tData format:   float32"
      ]
     },
     "execution_count": 5,
     "metadata": {},
     "output_type": "execute_result"
    }
   ],
   "source": [
    "img = open_image('data/ENVI/DATA_FILE_PROCESSED_RH.hdr')\n",
    "img"
   ]
  },
  {
   "cell_type": "code",
   "execution_count": 6,
   "metadata": {},
   "outputs": [],
   "source": [
    "arr = img.load()"
   ]
  },
  {
   "cell_type": "code",
   "execution_count": 19,
   "metadata": {},
   "outputs": [],
   "source": [
    "save_rgb('196483841_RH.tif', arr)"
   ]
  },
  {
   "cell_type": "code",
   "execution_count": 4,
   "metadata": {},
   "outputs": [
    {
     "data": {
      "text/plain": [
       "ImageArray([[[ 780.8077 ]\n",
       "             [ 817.6858 ]\n",
       "             [ 935.9957 ]\n",
       "             ...\n",
       "             [ 918.71075]\n",
       "             [1097.578  ]\n",
       "             [ 873.10065]]\n",
       "\n",
       "            [[ 910.2322 ]\n",
       "             [ 824.22943]\n",
       "             [ 904.3717 ]\n",
       "             ...\n",
       "             [ 769.02576]\n",
       "             [ 901.0487 ]\n",
       "             [ 590.22546]]\n",
       "\n",
       "            [[ 760.7676 ]\n",
       "             [1096.9271 ]\n",
       "             [1095.1951 ]\n",
       "             ...\n",
       "             [ 993.7242 ]\n",
       "             [ 824.4236 ]\n",
       "             [ 407.46515]]\n",
       "\n",
       "            ...\n",
       "\n",
       "            [[1025.4806 ]\n",
       "             [1155.9614 ]\n",
       "             [1372.1504 ]\n",
       "             ...\n",
       "             [ 879.6489 ]\n",
       "             [ 775.143  ]\n",
       "             [ 867.1112 ]]\n",
       "\n",
       "            [[1203.3401 ]\n",
       "             [ 838.34686]\n",
       "             [ 967.15906]\n",
       "             ...\n",
       "             [ 841.7806 ]\n",
       "             [ 656.9413 ]\n",
       "             [ 797.31104]]\n",
       "\n",
       "            [[2178.577  ]\n",
       "             [ 868.4121 ]\n",
       "             [1018.91986]\n",
       "             ...\n",
       "             [1085.0505 ]\n",
       "             [ 807.5947 ]\n",
       "             [ 638.9435 ]]], dtype=float32)"
      ]
     },
     "execution_count": 4,
     "metadata": {},
     "output_type": "execute_result"
    }
   ],
   "source": [
    "arr"
   ]
  },
  {
   "cell_type": "code",
   "execution_count": 8,
   "metadata": {},
   "outputs": [
    {
     "data": {
      "text/plain": [
       "spectral.image.ImageArray"
      ]
     },
     "execution_count": 8,
     "metadata": {},
     "output_type": "execute_result"
    }
   ],
   "source": [
    "type(arr)"
   ]
  },
  {
   "cell_type": "code",
   "execution_count": 18,
   "metadata": {},
   "outputs": [],
   "source": [
    "import numpy as np\n",
    "\n",
    "arr = np.array(arr.read_band(0))"
   ]
  },
  {
   "cell_type": "code",
   "execution_count": 19,
   "metadata": {},
   "outputs": [
    {
     "data": {
      "text/plain": [
       "array([[ 292.24988,  832.9856 ,  325.74377, ...,  376.24725,  792.7528 ,\n",
       "         559.43005],\n",
       "       [ 532.2227 ,  762.10364,  362.85672, ..., 2462.4321 ,  580.7065 ,\n",
       "         523.2791 ],\n",
       "       [ 153.47313,  604.12744,  790.5144 , ..., 2265.7063 ,  365.32178,\n",
       "         887.54095],\n",
       "       ...,\n",
       "       [1667.4064 , 4669.4414 , 1035.9778 , ...,  936.9872 , 1009.65735,\n",
       "         679.014  ],\n",
       "       [1663.0388 , 4291.4897 , 1963.9277 , ...,  532.9024 , 1501.6484 ,\n",
       "        1839.1177 ],\n",
       "       [2345.469  , 1366.9945 , 1489.3318 , ..., 1231.9302 , 2352.467  ,\n",
       "        1482.1423 ]], dtype=float32)"
      ]
     },
     "execution_count": 19,
     "metadata": {},
     "output_type": "execute_result"
    }
   ],
   "source": [
    "arr"
   ]
  },
  {
   "cell_type": "code",
   "execution_count": 20,
   "metadata": {},
   "outputs": [
    {
     "data": {
      "text/plain": [
       "(13973, 13466)"
      ]
     },
     "execution_count": 20,
     "metadata": {},
     "output_type": "execute_result"
    }
   ],
   "source": [
    "arr.shape"
   ]
  },
  {
   "cell_type": "code",
   "execution_count": null,
   "metadata": {},
   "outputs": [],
   "source": []
  }
 ],
 "metadata": {
  "kernelspec": {
   "display_name": "Python 3",
   "language": "python",
   "name": "python3"
  },
  "language_info": {
   "codemirror_mode": {
    "name": "ipython",
    "version": 3
   },
   "file_extension": ".py",
   "mimetype": "text/x-python",
   "name": "python",
   "nbconvert_exporter": "python",
   "pygments_lexer": "ipython3",
   "version": "3.8.2"
  }
 },
 "nbformat": 4,
 "nbformat_minor": 4
}
